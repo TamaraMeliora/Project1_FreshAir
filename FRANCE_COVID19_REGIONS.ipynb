{
 "cells": [
  {
   "cell_type": "code",
   "execution_count": 2,
   "id": "13fb99b1",
   "metadata": {},
   "outputs": [
    {
     "name": "stdout",
     "output_type": "stream",
     "text": [
      "        jour      nomReg  numReg  incid_rea\n",
      "0 2020-03-19  Guadeloupe     1.0          0\n",
      "1 2020-03-20  Guadeloupe     1.0          0\n",
      "2 2020-03-21  Guadeloupe     1.0          0\n",
      "3 2020-03-22  Guadeloupe     1.0          5\n",
      "4 2020-03-23  Guadeloupe     1.0          0\n"
     ]
    }
   ],
   "source": [
    "import pandas as pd\n",
    "\n",
    "df = pd.read_csv(\n",
    "    r'C:\\Users\\maxpi\\Downloads\\covid-hospit-incid-reg-2023-03-31-18h01.csv',\n",
    "    encoding='latin1',\n",
    "    sep=';',  \n",
    "    parse_dates=['jour']\n",
    ")\n",
    "\n",
    "print(df.head())"
   ]
  },
  {
   "cell_type": "code",
   "execution_count": 3,
   "id": "3f8a13bb",
   "metadata": {},
   "outputs": [
    {
     "name": "stdout",
     "output_type": "stream",
     "text": [
      "['jour', 'nomReg', 'numReg', 'incid_rea']\n",
      "jour         datetime64[ns]\n",
      "nomReg               object\n",
      "numReg              float64\n",
      "incid_rea             int64\n",
      "dtype: object\n"
     ]
    }
   ],
   "source": [
    "print(df.columns.tolist())\n",
    "print(df.dtypes)\n",
    "\n"
   ]
  },
  {
   "cell_type": "code",
   "execution_count": 4,
   "id": "91dfd9c0",
   "metadata": {},
   "outputs": [
    {
     "name": "stdout",
     "output_type": "stream",
     "text": [
      "jour            0\n",
      "nomReg       1108\n",
      "numReg       1108\n",
      "incid_rea       0\n",
      "dtype: int64\n",
      "Empty DataFrame\n",
      "Columns: [jour, nomReg, numReg, incid_rea]\n",
      "Index: []\n",
      "            jour nomReg  numReg  incid_rea\n",
      "19944 2020-03-19    NaN     NaN          0\n",
      "19945 2020-03-20    NaN     NaN          0\n",
      "19946 2020-03-21    NaN     NaN          0\n",
      "19947 2020-03-22    NaN     NaN          0\n",
      "19948 2020-03-23    NaN     NaN          0\n"
     ]
    }
   ],
   "source": [
    "print(df.isnull().sum())\n",
    "empty_rows = df[df.isnull().all(axis=1)]\n",
    "print(empty_rows)\n",
    "missing_data = df[df.isnull().any(axis=1)]\n",
    "print(missing_data.head())"
   ]
  },
  {
   "cell_type": "code",
   "execution_count": 5,
   "id": "663697f9",
   "metadata": {},
   "outputs": [],
   "source": [
    "# First I need to clean the columns - rename column titles.\n",
    "# jour = we need to split into day month and year\n",
    "# nomReg = region\n",
    "# numReg = delete - it is just a registry number of the region\n",
    "# incid_rea = number_of_cases\n",
    "\n",
    "# As we are checking for per month, I will need to sum each number of cases per month"
   ]
  },
  {
   "cell_type": "code",
   "execution_count": 6,
   "id": "5b61b6c3",
   "metadata": {},
   "outputs": [
    {
     "name": "stdout",
     "output_type": "stream",
     "text": [
      "                 region  year  month  number_of_cases\n",
      "0  Auvergne-Rhône-Alpes  2020      3              796\n",
      "1  Auvergne-Rhône-Alpes  2020      4              847\n",
      "2  Auvergne-Rhône-Alpes  2020      5              156\n",
      "3  Auvergne-Rhône-Alpes  2020      6               28\n",
      "4  Auvergne-Rhône-Alpes  2020      7               25\n"
     ]
    }
   ],
   "source": [
    "df = df.rename(columns={\n",
    "    'jour': 'day',\n",
    "    'nomReg': 'region',\n",
    "    'incid_rea': 'number_of_cases'\n",
    "})\n",
    "\n",
    "overseas = ['Guadeloupe', 'Martinique', 'Guyane', 'La Réunion', 'Mayotte']\n",
    "\n",
    "df = df[~df['region'].isin(overseas)].reset_index(drop=True)\n",
    "\n",
    "df = df.drop(columns=['numReg'])\n",
    "\n",
    "df['year'] = df['day'].dt.year\n",
    "df['month'] = df['day'].dt.month\n",
    "\n",
    "# Group by region, year, and month and sum the cases\n",
    "monthly_cases = df.groupby(['region', 'year', 'month'])['number_of_cases'].sum().reset_index()\n",
    "\n",
    "print(monthly_cases.head())\n"
   ]
  },
  {
   "cell_type": "code",
   "execution_count": 7,
   "id": "db020a0f",
   "metadata": {},
   "outputs": [
    {
     "name": "stdout",
     "output_type": "stream",
     "text": [
      "day                   0\n",
      "region             1108\n",
      "number_of_cases       0\n",
      "year                  0\n",
      "month                 0\n",
      "dtype: int64\n",
      "Empty DataFrame\n",
      "Columns: [day, region, number_of_cases, year, month]\n",
      "Index: []\n",
      "             day region  number_of_cases  year  month\n",
      "14404 2020-03-19    NaN                0  2020      3\n",
      "14405 2020-03-20    NaN                0  2020      3\n",
      "14406 2020-03-21    NaN                0  2020      3\n",
      "14407 2020-03-22    NaN                0  2020      3\n",
      "14408 2020-03-23    NaN                0  2020      3\n",
      "             day region  number_of_cases  year  month\n",
      "14404 2020-03-19    NaN                0  2020      3\n",
      "14405 2020-03-20    NaN                0  2020      3\n",
      "14406 2020-03-21    NaN                0  2020      3\n",
      "14407 2020-03-22    NaN                0  2020      3\n",
      "14408 2020-03-23    NaN                0  2020      3\n",
      "14409 2020-03-24    NaN                0  2020      3\n",
      "14410 2020-03-25    NaN                0  2020      3\n",
      "14411 2020-03-26    NaN                0  2020      3\n",
      "14412 2020-03-27    NaN                0  2020      3\n",
      "14413 2020-03-28    NaN                0  2020      3\n",
      "14414 2020-03-29    NaN                0  2020      3\n",
      "14415 2020-03-30    NaN                0  2020      3\n",
      "14416 2020-03-31    NaN                0  2020      3\n",
      "14417 2020-04-01    NaN                0  2020      4\n",
      "14418 2020-04-02    NaN                0  2020      4\n",
      "14419 2020-04-03    NaN                0  2020      4\n",
      "14420 2020-04-04    NaN                0  2020      4\n",
      "14421 2020-04-05    NaN                0  2020      4\n",
      "14422 2020-04-06    NaN                0  2020      4\n",
      "14423 2020-04-07    NaN                0  2020      4\n",
      "True\n",
      "0\n"
     ]
    }
   ],
   "source": [
    "# checking for nulls and cleaning them\n",
    "print(df.isnull().sum())\n",
    "empty_rows = df[df.isnull().all(axis=1)]\n",
    "print(empty_rows)\n",
    "missing_data = df[df.isnull().any(axis=1)]\n",
    "print(missing_data.head())\n",
    "missing_region_rows = df[df['region'].isnull()]\n",
    "print(missing_region_rows.head(20)) \n",
    "# Check rows have 0 cases\n",
    "all_zero = (missing_region_rows['number_of_cases'] == 0).all()\n",
    "print(all_zero)\n",
    "# All null regions have 0 cases, so I will delete them all as they will not contribute to the analysis\n",
    "df = df[df['region'].notna()]\n",
    "print(df['region'].isnull().sum())"
   ]
  },
  {
   "cell_type": "code",
   "execution_count": 8,
   "id": "434c5f19",
   "metadata": {},
   "outputs": [
    {
     "name": "stdout",
     "output_type": "stream",
     "text": [
      "['Ile-de-France' 'Centre-Val de Loire' 'Bourgogne-Franche-Comté'\n",
      " 'Normandie' 'Hauts-de-France' 'Grand-Est' 'Pays de la Loire' 'Bretagne'\n",
      " 'Nouvelle-Aquitaine' 'Occitanie' 'Auvergne-Rhône-Alpes'\n",
      " \"Provence-Alpes-Côte d'Azur\" 'Corse']\n"
     ]
    }
   ],
   "source": [
    "\n",
    "\n",
    "\n",
    "print(df['region'].unique())\n"
   ]
  },
  {
   "cell_type": "code",
   "execution_count": 9,
   "id": "f6ffea41",
   "metadata": {},
   "outputs": [],
   "source": [
    "#function to view each region and see the month by month case change in the year 2022\n",
    "df['change_in_cases'] = df.groupby(['region', 'year'])['number_of_cases'].diff().fillna(0)\n",
    "\n",
    "def view_region_monthly_change(region_name):\n",
    "    # Filter for the selected region and year\n",
    "    region_data = monthly_cases[\n",
    "        (monthly_cases['region'] == region_name)\n",
    "    ].sort_values('month')\n",
    "    \n",
    "    region_data['change_in_cases'] = region_data['number_of_cases'].diff().fillna(0)\n",
    "    \n",
    "    return region_data.reset_index(drop=True)\n"
   ]
  },
  {
   "cell_type": "code",
   "execution_count": 10,
   "id": "e8f86d69",
   "metadata": {},
   "outputs": [
    {
     "name": "stdout",
     "output_type": "stream",
     "text": [
      "           region  year  month  number_of_cases  change_in_cases\n",
      "0   Ile-de-France  2023      1              206              0.0\n",
      "1   Ile-de-France  2022      1             2425           2219.0\n",
      "2   Ile-de-France  2021      1             1364          -1061.0\n",
      "3   Ile-de-France  2022      2             1073           -291.0\n",
      "4   Ile-de-France  2023      2              213           -860.0\n",
      "5   Ile-de-France  2021      2             1731           1518.0\n",
      "6   Ile-de-France  2020      3             2372            641.0\n",
      "7   Ile-de-France  2022      3              582          -1790.0\n",
      "8   Ile-de-France  2021      3             3560           2978.0\n",
      "9   Ile-de-France  2023      3              283          -3277.0\n",
      "10  Ile-de-France  2020      4             3787           3504.0\n",
      "11  Ile-de-France  2021      4             3963            176.0\n",
      "12  Ile-de-France  2022      4              750          -3213.0\n",
      "13  Ile-de-France  2021      5             1728            978.0\n",
      "14  Ile-de-France  2022      5              399          -1329.0\n",
      "15  Ile-de-France  2020      5              625            226.0\n",
      "16  Ile-de-France  2020      6              151           -474.0\n",
      "17  Ile-de-France  2021      6              430            279.0\n",
      "18  Ile-de-France  2022      6              439              9.0\n",
      "19  Ile-de-France  2021      7              331           -108.0\n",
      "20  Ile-de-France  2022      7              791            460.0\n",
      "21  Ile-de-France  2020      7              130           -661.0\n",
      "22  Ile-de-France  2021      8              892            762.0\n",
      "23  Ile-de-France  2020      8              238           -654.0\n",
      "24  Ile-de-France  2022      8              345            107.0\n",
      "25  Ile-de-France  2022      9              286            -59.0\n",
      "26  Ile-de-France  2021      9              603            317.0\n",
      "27  Ile-de-France  2020      9              741            138.0\n",
      "28  Ile-de-France  2021     10              369           -372.0\n",
      "29  Ile-de-France  2022     10              522            153.0\n",
      "30  Ile-de-France  2020     10             1851           1329.0\n",
      "31  Ile-de-France  2021     11              636          -1215.0\n",
      "32  Ile-de-France  2022     11              376           -260.0\n",
      "33  Ile-de-France  2020     11             1979           1603.0\n",
      "34  Ile-de-France  2021     12             1667           -312.0\n",
      "35  Ile-de-France  2022     12              507          -1160.0\n",
      "36  Ile-de-France  2020     12             1097            590.0\n"
     ]
    }
   ],
   "source": [
    "print(view_region_monthly_change('Ile-de-France'))\n"
   ]
  },
  {
   "cell_type": "code",
   "execution_count": 11,
   "id": "d1cd98b3",
   "metadata": {},
   "outputs": [],
   "source": [
    "# Sort by the largest monthly_change\n",
    "top_monthly_changes = df.sort_values('change_in_cases', ascending=False)\n",
    "\n"
   ]
  },
  {
   "cell_type": "code",
   "execution_count": 12,
   "id": "8b020b57",
   "metadata": {},
   "outputs": [
    {
     "name": "stdout",
     "output_type": "stream",
     "text": [
      "             day                region  number_of_cases  year  month  \\\n",
      "11028 2023-02-08             Occitanie              104  2023      2   \n",
      "397   2021-04-20         Ile-de-France              208  2021      4   \n",
      "12    2020-03-31         Ile-de-France              288  2020      3   \n",
      "383   2021-04-06         Ile-de-France              156  2021      4   \n",
      "5     2020-03-24         Ile-de-France              236  2020      3   \n",
      "11767 2022-02-04  Auvergne-Rhône-Alpes              104  2022      2   \n",
      "11476 2021-04-19  Auvergne-Rhône-Alpes               85  2021      4   \n",
      "648   2021-12-27         Ile-de-France               79  2021     12   \n",
      "11469 2021-04-12  Auvergne-Rhône-Alpes               87  2021      4   \n",
      "662   2022-01-10         Ile-de-France              105  2022      1   \n",
      "\n",
      "       change_in_cases  \n",
      "11028            103.0  \n",
      "397              102.0  \n",
      "12                99.0  \n",
      "383               83.0  \n",
      "5                 81.0  \n",
      "11767             75.0  \n",
      "11476             67.0  \n",
      "648               65.0  \n",
      "11469             64.0  \n",
      "662               64.0  \n"
     ]
    }
   ],
   "source": [
    "print(top_monthly_changes.head(10))\n"
   ]
  },
  {
   "cell_type": "code",
   "execution_count": 14,
   "id": "7c65b238",
   "metadata": {},
   "outputs": [
    {
     "name": "stdout",
     "output_type": "stream",
     "text": [
      "                         region  year  month  number_of_cases  change_in_cases\n",
      "271               Ile-de-France  2021      3             3560           1829.0\n",
      "260               Ile-de-France  2020      4             3787           1415.0\n",
      "266               Ile-de-France  2020     10             1851           1110.0\n",
      "280               Ile-de-France  2021     12             1667           1031.0\n",
      "465  Provence-Alpes-Côte d'Azur  2021     12             1162            888.0\n",
      "7          Auvergne-Rhône-Alpes  2020     10             1134            834.0\n",
      "8          Auvergne-Rhône-Alpes  2020     11             1892            758.0\n",
      "281               Ile-de-France  2022      1             2425            758.0\n",
      "21         Auvergne-Rhône-Alpes  2021     12             1102            723.0\n",
      "461  Provence-Alpes-Côte d'Azur  2021      8              882            681.0\n"
     ]
    }
   ],
   "source": [
    "# See which regions had biggest change in cases \n",
    "\n",
    "monthly_cases['change_in_cases'] = monthly_cases.groupby(['region'])['number_of_cases'].diff().fillna(0)\n",
    "\n",
    "top_changes_all_years = monthly_cases.sort_values('change_in_cases', ascending=False)\n",
    "\n",
    "print(top_changes_all_years.head(10))"
   ]
  },
  {
   "cell_type": "code",
   "execution_count": 15,
   "id": "e0f426cc",
   "metadata": {},
   "outputs": [
    {
     "name": "stdout",
     "output_type": "stream",
     "text": [
      "                        region  change_in_cases\n",
      "7                Ile-de-France          21591.0\n",
      "0         Auvergne-Rhône-Alpes          10178.0\n",
      "12  Provence-Alpes-Côte d'Azur           8575.0\n",
      "6              Hauts-de-France           7337.0\n",
      "10                   Occitanie           7332.0\n",
      "5                    Grand-Est           5951.0\n",
      "9           Nouvelle-Aquitaine           4114.0\n",
      "1      Bourgogne-Franche-Comté           3204.0\n",
      "3          Centre-Val de Loire           2726.0\n",
      "11            Pays de la Loire           2493.0\n",
      "8                    Normandie           2365.0\n",
      "2                     Bretagne           1867.0\n",
      "4                        Corse            490.0\n"
     ]
    }
   ],
   "source": [
    "# to confirm, I will check the sum of the absolute change \n",
    "import numpy as np\n",
    "\n",
    "monthly_cases['change_in_cases'] = monthly_cases.groupby('region')['number_of_cases'].diff().fillna(0)\n",
    "\n",
    "region_abs_change = monthly_cases.groupby('region')['change_in_cases'].apply(lambda x: x.abs().sum()).reset_index()\n",
    "\n",
    "region_abs_change = region_abs_change.sort_values('change_in_cases', ascending=False)\n",
    "\n",
    "print(region_abs_change)"
   ]
  },
  {
   "cell_type": "code",
   "execution_count": null,
   "id": "1fd1512a",
   "metadata": {},
   "outputs": [
    {
     "name": "stdout",
     "output_type": "stream",
     "text": [
      "                        region  sum_abs_change\n",
      "7                Ile-de-France          3772.0\n",
      "10                   Occitanie          1801.0\n",
      "0         Auvergne-Rhône-Alpes          1790.0\n",
      "12  Provence-Alpes-Côte d'Azur          1622.0\n",
      "6              Hauts-de-France          1333.0\n",
      "5                    Grand-Est          1175.0\n",
      "9           Nouvelle-Aquitaine          1053.0\n",
      "1      Bourgogne-Franche-Comté           762.0\n",
      "11            Pays de la Loire           665.0\n",
      "3          Centre-Val de Loire           635.0\n",
      "2                     Bretagne           609.0\n",
      "8                    Normandie           434.0\n",
      "4                        Corse           143.0\n"
     ]
    }
   ],
   "source": [
    "region_abs_change_sorted = region_abs_change.sort_values('sum_abs_change', ascending=False)\n",
    "print(region_abs_change_sorted)\n",
    "\n",
    "\n",
    "\n",
    "\n",
    "\n",
    "\n"
   ]
  },
  {
   "cell_type": "code",
   "execution_count": null,
   "id": "b74c3721",
   "metadata": {},
   "outputs": [],
   "source": [
    "#We can focus our air quality analysis in Ile-de-France, Occitanie, Provence-Alpes-Côte d'Azur"
   ]
  },
  {
   "cell_type": "code",
   "execution_count": null,
   "id": "723d7731",
   "metadata": {},
   "outputs": [
    {
     "data": {
      "text/html": [
       "<div>\n",
       "<style scoped>\n",
       "    .dataframe tbody tr th:only-of-type {\n",
       "        vertical-align: middle;\n",
       "    }\n",
       "\n",
       "    .dataframe tbody tr th {\n",
       "        vertical-align: top;\n",
       "    }\n",
       "\n",
       "    .dataframe thead th {\n",
       "        text-align: right;\n",
       "    }\n",
       "</style>\n",
       "<table border=\"1\" class=\"dataframe\">\n",
       "  <thead>\n",
       "    <tr style=\"text-align: right;\">\n",
       "      <th></th>\n",
       "      <th>day</th>\n",
       "      <th>region</th>\n",
       "      <th>number_of_cases</th>\n",
       "      <th>year</th>\n",
       "      <th>month</th>\n",
       "      <th>change_in_cases</th>\n",
       "    </tr>\n",
       "  </thead>\n",
       "  <tbody>\n",
       "    <tr>\n",
       "      <th>0</th>\n",
       "      <td>2020-03-19</td>\n",
       "      <td>Ile-de-France</td>\n",
       "      <td>151</td>\n",
       "      <td>2020</td>\n",
       "      <td>3</td>\n",
       "      <td>0.0</td>\n",
       "    </tr>\n",
       "    <tr>\n",
       "      <th>1</th>\n",
       "      <td>2020-03-20</td>\n",
       "      <td>Ile-de-France</td>\n",
       "      <td>89</td>\n",
       "      <td>2020</td>\n",
       "      <td>3</td>\n",
       "      <td>-62.0</td>\n",
       "    </tr>\n",
       "    <tr>\n",
       "      <th>2</th>\n",
       "      <td>2020-03-21</td>\n",
       "      <td>Ile-de-France</td>\n",
       "      <td>104</td>\n",
       "      <td>2020</td>\n",
       "      <td>3</td>\n",
       "      <td>15.0</td>\n",
       "    </tr>\n",
       "    <tr>\n",
       "      <th>3</th>\n",
       "      <td>2020-03-22</td>\n",
       "      <td>Ile-de-France</td>\n",
       "      <td>125</td>\n",
       "      <td>2020</td>\n",
       "      <td>3</td>\n",
       "      <td>21.0</td>\n",
       "    </tr>\n",
       "    <tr>\n",
       "      <th>4</th>\n",
       "      <td>2020-03-23</td>\n",
       "      <td>Ile-de-France</td>\n",
       "      <td>155</td>\n",
       "      <td>2020</td>\n",
       "      <td>3</td>\n",
       "      <td>30.0</td>\n",
       "    </tr>\n",
       "    <tr>\n",
       "      <th>...</th>\n",
       "      <td>...</td>\n",
       "      <td>...</td>\n",
       "      <td>...</td>\n",
       "      <td>...</td>\n",
       "      <td>...</td>\n",
       "      <td>...</td>\n",
       "    </tr>\n",
       "    <tr>\n",
       "      <th>14399</th>\n",
       "      <td>2023-03-27</td>\n",
       "      <td>Corse</td>\n",
       "      <td>0</td>\n",
       "      <td>2023</td>\n",
       "      <td>3</td>\n",
       "      <td>0.0</td>\n",
       "    </tr>\n",
       "    <tr>\n",
       "      <th>14400</th>\n",
       "      <td>2023-03-28</td>\n",
       "      <td>Corse</td>\n",
       "      <td>0</td>\n",
       "      <td>2023</td>\n",
       "      <td>3</td>\n",
       "      <td>0.0</td>\n",
       "    </tr>\n",
       "    <tr>\n",
       "      <th>14401</th>\n",
       "      <td>2023-03-29</td>\n",
       "      <td>Corse</td>\n",
       "      <td>0</td>\n",
       "      <td>2023</td>\n",
       "      <td>3</td>\n",
       "      <td>0.0</td>\n",
       "    </tr>\n",
       "    <tr>\n",
       "      <th>14402</th>\n",
       "      <td>2023-03-30</td>\n",
       "      <td>Corse</td>\n",
       "      <td>0</td>\n",
       "      <td>2023</td>\n",
       "      <td>3</td>\n",
       "      <td>0.0</td>\n",
       "    </tr>\n",
       "    <tr>\n",
       "      <th>14403</th>\n",
       "      <td>2023-03-31</td>\n",
       "      <td>Corse</td>\n",
       "      <td>0</td>\n",
       "      <td>2023</td>\n",
       "      <td>3</td>\n",
       "      <td>0.0</td>\n",
       "    </tr>\n",
       "  </tbody>\n",
       "</table>\n",
       "<p>14404 rows × 6 columns</p>\n",
       "</div>"
      ],
      "text/plain": [
       "             day         region  number_of_cases  year  month  change_in_cases\n",
       "0     2020-03-19  Ile-de-France              151  2020      3              0.0\n",
       "1     2020-03-20  Ile-de-France               89  2020      3            -62.0\n",
       "2     2020-03-21  Ile-de-France              104  2020      3             15.0\n",
       "3     2020-03-22  Ile-de-France              125  2020      3             21.0\n",
       "4     2020-03-23  Ile-de-France              155  2020      3             30.0\n",
       "...          ...            ...              ...   ...    ...              ...\n",
       "14399 2023-03-27          Corse                0  2023      3              0.0\n",
       "14400 2023-03-28          Corse                0  2023      3              0.0\n",
       "14401 2023-03-29          Corse                0  2023      3              0.0\n",
       "14402 2023-03-30          Corse                0  2023      3              0.0\n",
       "14403 2023-03-31          Corse                0  2023      3              0.0\n",
       "\n",
       "[14404 rows x 6 columns]"
      ]
     },
     "execution_count": 328,
     "metadata": {},
     "output_type": "execute_result"
    }
   ],
   "source": [
    "df"
   ]
  },
  {
   "cell_type": "code",
   "execution_count": null,
   "id": "c8e94b9e",
   "metadata": {},
   "outputs": [
    {
     "name": "stdout",
     "output_type": "stream",
     "text": [
      "['date', 'region', 'number_of_cases', 'year', 'month', 'change_in_cases']\n"
     ]
    }
   ],
   "source": [
    "print(df.columns.tolist())\n"
   ]
  },
  {
   "cell_type": "code",
   "execution_count": null,
   "id": "e9a834ba",
   "metadata": {},
   "outputs": [
    {
     "name": "stdout",
     "output_type": "stream",
     "text": [
      "['Ile-de-France' 'Centre-Val de Loire' 'Bourgogne-Franche-Comté'\n",
      " 'Normandie' 'Hauts-de-France' 'Grand-Est' 'Pays de la Loire' 'Bretagne'\n",
      " 'Nouvelle-Aquitaine' 'Occitanie' 'Auvergne-Rhône-Alpes'\n",
      " \"Provence-Alpes-Côte d'Azur\" 'Corse']\n"
     ]
    }
   ],
   "source": [
    "print(df['region'].unique())\n"
   ]
  },
  {
   "cell_type": "code",
   "execution_count": null,
   "id": "99c29ec9",
   "metadata": {},
   "outputs": [],
   "source": [
    "# We need to merge this dataset with the air quality dataset, and then we can see how air quality has changed with covid cases."
   ]
  },
  {
   "cell_type": "code",
   "execution_count": null,
   "id": "5f9df09e",
   "metadata": {},
   "outputs": [
    {
     "data": {
      "text/html": [
       "<div>\n",
       "<style scoped>\n",
       "    .dataframe tbody tr th:only-of-type {\n",
       "        vertical-align: middle;\n",
       "    }\n",
       "\n",
       "    .dataframe tbody tr th {\n",
       "        vertical-align: top;\n",
       "    }\n",
       "\n",
       "    .dataframe thead th {\n",
       "        text-align: right;\n",
       "    }\n",
       "</style>\n",
       "<table border=\"1\" class=\"dataframe\">\n",
       "  <thead>\n",
       "    <tr style=\"text-align: right;\">\n",
       "      <th></th>\n",
       "      <th>date</th>\n",
       "      <th>region</th>\n",
       "      <th>number_of_cases</th>\n",
       "      <th>year</th>\n",
       "      <th>month</th>\n",
       "      <th>change_in_cases</th>\n",
       "    </tr>\n",
       "  </thead>\n",
       "  <tbody>\n",
       "    <tr>\n",
       "      <th>0</th>\n",
       "      <td>2020-03-19</td>\n",
       "      <td>Ile-de-France</td>\n",
       "      <td>151</td>\n",
       "      <td>2020</td>\n",
       "      <td>3</td>\n",
       "      <td>0.0</td>\n",
       "    </tr>\n",
       "    <tr>\n",
       "      <th>1</th>\n",
       "      <td>2020-03-20</td>\n",
       "      <td>Ile-de-France</td>\n",
       "      <td>89</td>\n",
       "      <td>2020</td>\n",
       "      <td>3</td>\n",
       "      <td>-62.0</td>\n",
       "    </tr>\n",
       "    <tr>\n",
       "      <th>2</th>\n",
       "      <td>2020-03-21</td>\n",
       "      <td>Ile-de-France</td>\n",
       "      <td>104</td>\n",
       "      <td>2020</td>\n",
       "      <td>3</td>\n",
       "      <td>15.0</td>\n",
       "    </tr>\n",
       "    <tr>\n",
       "      <th>3</th>\n",
       "      <td>2020-03-22</td>\n",
       "      <td>Ile-de-France</td>\n",
       "      <td>125</td>\n",
       "      <td>2020</td>\n",
       "      <td>3</td>\n",
       "      <td>21.0</td>\n",
       "    </tr>\n",
       "    <tr>\n",
       "      <th>4</th>\n",
       "      <td>2020-03-23</td>\n",
       "      <td>Ile-de-France</td>\n",
       "      <td>155</td>\n",
       "      <td>2020</td>\n",
       "      <td>3</td>\n",
       "      <td>30.0</td>\n",
       "    </tr>\n",
       "    <tr>\n",
       "      <th>...</th>\n",
       "      <td>...</td>\n",
       "      <td>...</td>\n",
       "      <td>...</td>\n",
       "      <td>...</td>\n",
       "      <td>...</td>\n",
       "      <td>...</td>\n",
       "    </tr>\n",
       "    <tr>\n",
       "      <th>14399</th>\n",
       "      <td>2023-03-27</td>\n",
       "      <td>Corse</td>\n",
       "      <td>0</td>\n",
       "      <td>2023</td>\n",
       "      <td>3</td>\n",
       "      <td>0.0</td>\n",
       "    </tr>\n",
       "    <tr>\n",
       "      <th>14400</th>\n",
       "      <td>2023-03-28</td>\n",
       "      <td>Corse</td>\n",
       "      <td>0</td>\n",
       "      <td>2023</td>\n",
       "      <td>3</td>\n",
       "      <td>0.0</td>\n",
       "    </tr>\n",
       "    <tr>\n",
       "      <th>14401</th>\n",
       "      <td>2023-03-29</td>\n",
       "      <td>Corse</td>\n",
       "      <td>0</td>\n",
       "      <td>2023</td>\n",
       "      <td>3</td>\n",
       "      <td>0.0</td>\n",
       "    </tr>\n",
       "    <tr>\n",
       "      <th>14402</th>\n",
       "      <td>2023-03-30</td>\n",
       "      <td>Corse</td>\n",
       "      <td>0</td>\n",
       "      <td>2023</td>\n",
       "      <td>3</td>\n",
       "      <td>0.0</td>\n",
       "    </tr>\n",
       "    <tr>\n",
       "      <th>14403</th>\n",
       "      <td>2023-03-31</td>\n",
       "      <td>Corse</td>\n",
       "      <td>0</td>\n",
       "      <td>2023</td>\n",
       "      <td>3</td>\n",
       "      <td>0.0</td>\n",
       "    </tr>\n",
       "  </tbody>\n",
       "</table>\n",
       "<p>14404 rows × 6 columns</p>\n",
       "</div>"
      ],
      "text/plain": [
       "            date         region  number_of_cases  year  month  change_in_cases\n",
       "0     2020-03-19  Ile-de-France              151  2020      3              0.0\n",
       "1     2020-03-20  Ile-de-France               89  2020      3            -62.0\n",
       "2     2020-03-21  Ile-de-France              104  2020      3             15.0\n",
       "3     2020-03-22  Ile-de-France              125  2020      3             21.0\n",
       "4     2020-03-23  Ile-de-France              155  2020      3             30.0\n",
       "...          ...            ...              ...   ...    ...              ...\n",
       "14399 2023-03-27          Corse                0  2023      3              0.0\n",
       "14400 2023-03-28          Corse                0  2023      3              0.0\n",
       "14401 2023-03-29          Corse                0  2023      3              0.0\n",
       "14402 2023-03-30          Corse                0  2023      3              0.0\n",
       "14403 2023-03-31          Corse                0  2023      3              0.0\n",
       "\n",
       "[14404 rows x 6 columns]"
      ]
     },
     "execution_count": 307,
     "metadata": {},
     "output_type": "execute_result"
    }
   ],
   "source": [
    "df"
   ]
  },
  {
   "cell_type": "code",
   "execution_count": null,
   "id": "47464615",
   "metadata": {},
   "outputs": [
    {
     "name": "stdout",
     "output_type": "stream",
     "text": [
      "Empty DataFrame\n",
      "Columns: [date, region, number_of_cases, year, month, change_in_cases]\n",
      "Index: []\n"
     ]
    }
   ],
   "source": [
    "# Check for duplicates\n",
    "duplicates = df.duplicated()\n",
    "num_duplicates = duplicates.sum()\n",
    "print(df[duplicates])\n"
   ]
  },
  {
   "cell_type": "code",
   "execution_count": null,
   "id": "2ab29c11",
   "metadata": {},
   "outputs": [],
   "source": [
    "#change column order for better visibility\n",
    "\n",
    "cols = ['region','day', 'month', 'year','number_of_cases','change_in_cases']\n",
    "new_order = cols \n",
    "df = df[new_order]"
   ]
  },
  {
   "cell_type": "code",
   "execution_count": null,
   "id": "d0ed9984",
   "metadata": {},
   "outputs": [
    {
     "data": {
      "text/html": [
       "<div>\n",
       "<style scoped>\n",
       "    .dataframe tbody tr th:only-of-type {\n",
       "        vertical-align: middle;\n",
       "    }\n",
       "\n",
       "    .dataframe tbody tr th {\n",
       "        vertical-align: top;\n",
       "    }\n",
       "\n",
       "    .dataframe thead th {\n",
       "        text-align: right;\n",
       "    }\n",
       "</style>\n",
       "<table border=\"1\" class=\"dataframe\">\n",
       "  <thead>\n",
       "    <tr style=\"text-align: right;\">\n",
       "      <th></th>\n",
       "      <th>region</th>\n",
       "      <th>day</th>\n",
       "      <th>month</th>\n",
       "      <th>year</th>\n",
       "      <th>number_of_cases</th>\n",
       "      <th>change_in_cases</th>\n",
       "    </tr>\n",
       "  </thead>\n",
       "  <tbody>\n",
       "    <tr>\n",
       "      <th>0</th>\n",
       "      <td>Ile-de-France</td>\n",
       "      <td>2020-03-19</td>\n",
       "      <td>3</td>\n",
       "      <td>2020</td>\n",
       "      <td>151</td>\n",
       "      <td>0.0</td>\n",
       "    </tr>\n",
       "    <tr>\n",
       "      <th>1</th>\n",
       "      <td>Ile-de-France</td>\n",
       "      <td>2020-03-20</td>\n",
       "      <td>3</td>\n",
       "      <td>2020</td>\n",
       "      <td>89</td>\n",
       "      <td>-62.0</td>\n",
       "    </tr>\n",
       "    <tr>\n",
       "      <th>2</th>\n",
       "      <td>Ile-de-France</td>\n",
       "      <td>2020-03-21</td>\n",
       "      <td>3</td>\n",
       "      <td>2020</td>\n",
       "      <td>104</td>\n",
       "      <td>15.0</td>\n",
       "    </tr>\n",
       "    <tr>\n",
       "      <th>3</th>\n",
       "      <td>Ile-de-France</td>\n",
       "      <td>2020-03-22</td>\n",
       "      <td>3</td>\n",
       "      <td>2020</td>\n",
       "      <td>125</td>\n",
       "      <td>21.0</td>\n",
       "    </tr>\n",
       "    <tr>\n",
       "      <th>4</th>\n",
       "      <td>Ile-de-France</td>\n",
       "      <td>2020-03-23</td>\n",
       "      <td>3</td>\n",
       "      <td>2020</td>\n",
       "      <td>155</td>\n",
       "      <td>30.0</td>\n",
       "    </tr>\n",
       "    <tr>\n",
       "      <th>...</th>\n",
       "      <td>...</td>\n",
       "      <td>...</td>\n",
       "      <td>...</td>\n",
       "      <td>...</td>\n",
       "      <td>...</td>\n",
       "      <td>...</td>\n",
       "    </tr>\n",
       "    <tr>\n",
       "      <th>14399</th>\n",
       "      <td>Corse</td>\n",
       "      <td>2023-03-27</td>\n",
       "      <td>3</td>\n",
       "      <td>2023</td>\n",
       "      <td>0</td>\n",
       "      <td>0.0</td>\n",
       "    </tr>\n",
       "    <tr>\n",
       "      <th>14400</th>\n",
       "      <td>Corse</td>\n",
       "      <td>2023-03-28</td>\n",
       "      <td>3</td>\n",
       "      <td>2023</td>\n",
       "      <td>0</td>\n",
       "      <td>0.0</td>\n",
       "    </tr>\n",
       "    <tr>\n",
       "      <th>14401</th>\n",
       "      <td>Corse</td>\n",
       "      <td>2023-03-29</td>\n",
       "      <td>3</td>\n",
       "      <td>2023</td>\n",
       "      <td>0</td>\n",
       "      <td>0.0</td>\n",
       "    </tr>\n",
       "    <tr>\n",
       "      <th>14402</th>\n",
       "      <td>Corse</td>\n",
       "      <td>2023-03-30</td>\n",
       "      <td>3</td>\n",
       "      <td>2023</td>\n",
       "      <td>0</td>\n",
       "      <td>0.0</td>\n",
       "    </tr>\n",
       "    <tr>\n",
       "      <th>14403</th>\n",
       "      <td>Corse</td>\n",
       "      <td>2023-03-31</td>\n",
       "      <td>3</td>\n",
       "      <td>2023</td>\n",
       "      <td>0</td>\n",
       "      <td>0.0</td>\n",
       "    </tr>\n",
       "  </tbody>\n",
       "</table>\n",
       "<p>14404 rows × 6 columns</p>\n",
       "</div>"
      ],
      "text/plain": [
       "              region        day  month  year  number_of_cases  change_in_cases\n",
       "0      Ile-de-France 2020-03-19      3  2020              151              0.0\n",
       "1      Ile-de-France 2020-03-20      3  2020               89            -62.0\n",
       "2      Ile-de-France 2020-03-21      3  2020              104             15.0\n",
       "3      Ile-de-France 2020-03-22      3  2020              125             21.0\n",
       "4      Ile-de-France 2020-03-23      3  2020              155             30.0\n",
       "...              ...        ...    ...   ...              ...              ...\n",
       "14399          Corse 2023-03-27      3  2023                0              0.0\n",
       "14400          Corse 2023-03-28      3  2023                0              0.0\n",
       "14401          Corse 2023-03-29      3  2023                0              0.0\n",
       "14402          Corse 2023-03-30      3  2023                0              0.0\n",
       "14403          Corse 2023-03-31      3  2023                0              0.0\n",
       "\n",
       "[14404 rows x 6 columns]"
      ]
     },
     "execution_count": 335,
     "metadata": {},
     "output_type": "execute_result"
    }
   ],
   "source": [
    "df"
   ]
  },
  {
   "cell_type": "code",
   "execution_count": null,
   "id": "93500393",
   "metadata": {},
   "outputs": [],
   "source": []
  }
 ],
 "metadata": {
  "kernelspec": {
   "display_name": "base",
   "language": "python",
   "name": "python3"
  },
  "language_info": {
   "codemirror_mode": {
    "name": "ipython",
    "version": 3
   },
   "file_extension": ".py",
   "mimetype": "text/x-python",
   "name": "python",
   "nbconvert_exporter": "python",
   "pygments_lexer": "ipython3",
   "version": "3.12.7"
  }
 },
 "nbformat": 4,
 "nbformat_minor": 5
}
